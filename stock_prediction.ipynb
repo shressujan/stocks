{
  "nbformat": 4,
  "nbformat_minor": 0,
  "metadata": {
    "colab": {
      "name": "stock_prediction.ipynb",
      "provenance": [],
      "machine_shape": "hm",
      "authorship_tag": "ABX9TyNnd8nFnLXW5YofbY5whaVE",
      "include_colab_link": true
    },
    "kernelspec": {
      "name": "python3",
      "display_name": "Python 3"
    },
    "accelerator": "TPU"
  },
  "cells": [
    {
      "cell_type": "markdown",
      "metadata": {
        "id": "view-in-github",
        "colab_type": "text"
      },
      "source": [
        "<a href=\"https://colab.research.google.com/github/shrestha94sujan/stocks/blob/master/stock_prediction.ipynb\" target=\"_parent\"><img src=\"https://colab.research.google.com/assets/colab-badge.svg\" alt=\"Open In Colab\"/></a>"
      ]
    },
    {
      "cell_type": "code",
      "metadata": {
        "id": "YKb_mAK2PF-k",
        "colab_type": "code",
        "outputId": "0e95f276-a5dd-46e0-ad91-4837de8d1c14",
        "colab": {
          "base_uri": "https://localhost:8080/",
          "height": 34
        }
      },
      "source": [
        "print('welcome to stock prediction Using Simple Linear Regression!')\n"
      ],
      "execution_count": 301,
      "outputs": [
        {
          "output_type": "stream",
          "text": [
            "welcome to stock prediction Using Simple Linear Regression!\n"
          ],
          "name": "stdout"
        }
      ]
    },
    {
      "cell_type": "code",
      "metadata": {
        "id": "Ex6aQVfJv9KE",
        "colab_type": "code",
        "outputId": "18b6a4c8-1944-402f-97a4-3281558c8a21",
        "colab": {
          "base_uri": "https://localhost:8080/",
          "height": 250
        }
      },
      "source": [
        "!pip install yfinance"
      ],
      "execution_count": 0,
      "outputs": [
        {
          "output_type": "stream",
          "text": [
            "Requirement already satisfied: yfinance in /usr/local/lib/python3.6/dist-packages (0.1.54)\n",
            "Requirement already satisfied: multitasking>=0.0.7 in /usr/local/lib/python3.6/dist-packages (from yfinance) (0.0.9)\n",
            "Requirement already satisfied: numpy>=1.15 in /usr/local/lib/python3.6/dist-packages (from yfinance) (1.18.4)\n",
            "Requirement already satisfied: requests>=2.20 in /usr/local/lib/python3.6/dist-packages (from yfinance) (2.23.0)\n",
            "Requirement already satisfied: pandas>=0.24 in /usr/local/lib/python3.6/dist-packages (from yfinance) (1.0.3)\n",
            "Requirement already satisfied: urllib3!=1.25.0,!=1.25.1,<1.26,>=1.21.1 in /usr/local/lib/python3.6/dist-packages (from requests>=2.20->yfinance) (1.24.3)\n",
            "Requirement already satisfied: certifi>=2017.4.17 in /usr/local/lib/python3.6/dist-packages (from requests>=2.20->yfinance) (2020.4.5.1)\n",
            "Requirement already satisfied: idna<3,>=2.5 in /usr/local/lib/python3.6/dist-packages (from requests>=2.20->yfinance) (2.9)\n",
            "Requirement already satisfied: chardet<4,>=3.0.2 in /usr/local/lib/python3.6/dist-packages (from requests>=2.20->yfinance) (3.0.4)\n",
            "Requirement already satisfied: pytz>=2017.2 in /usr/local/lib/python3.6/dist-packages (from pandas>=0.24->yfinance) (2018.9)\n",
            "Requirement already satisfied: python-dateutil>=2.6.1 in /usr/local/lib/python3.6/dist-packages (from pandas>=0.24->yfinance) (2.8.1)\n",
            "Requirement already satisfied: six>=1.5 in /usr/local/lib/python3.6/dist-packages (from python-dateutil>=2.6.1->pandas>=0.24->yfinance) (1.12.0)\n"
          ],
          "name": "stdout"
        }
      ]
    },
    {
      "cell_type": "markdown",
      "metadata": {
        "id": "7PpPNjIsvsO9",
        "colab_type": "text"
      },
      "source": [
        "### **Using yfinance library to import the history stock data**"
      ]
    },
    {
      "cell_type": "code",
      "metadata": {
        "id": "ZVeQWIK9wBEe",
        "colab_type": "code",
        "outputId": "202cb57a-6171-4eca-9bde-ab5673769aa2",
        "colab": {
          "base_uri": "https://localhost:8080/",
          "height": 265
        }
      },
      "source": [
        "import yfinance as yf\n",
        "import pandas as pd\n",
        "\n",
        "pd.options.display.max_rows=None\n",
        "\n",
        "aapl = yf.Ticker('AAPL')\n",
        "\n",
        "historical_data = aapl.history(period='30y')\n",
        "historical_data.reset_index(inplace=True)\n",
        "\n",
        "df = historical_data.copy()\n",
        "\n",
        "df['PCD'] = df['Close'] - df['Open']\n",
        "\n",
        "df.dropna(inplace=True)\n",
        "\n",
        "print(df.head(10))\n",
        "# Size of the dataframe\n",
        "print('Dataframe size: {}'.format(df.shape[0]))"
      ],
      "execution_count": 372,
      "outputs": [
        {
          "output_type": "stream",
          "text": [
            "         Date  Open  High   Low  ...      Volume  Dividends  Stock Splits   PCD\n",
            "1  1990-05-22  1.17  1.21  1.16  ...  75272400.0        0.0           0.0  0.03\n",
            "2  1990-05-23  1.20  1.23  1.20  ...  51878400.0        0.0           0.0  0.02\n",
            "3  1990-05-24  1.23  1.23  1.21  ...  37032800.0        0.0           0.0 -0.01\n",
            "4  1990-05-25  1.15  1.18  1.13  ...  80830400.0        0.0           0.0  0.01\n",
            "5  1990-05-29  1.16  1.20  1.14  ...  60802000.0        0.0           0.0  0.03\n",
            "6  1990-05-30  1.21  1.21  1.20  ...  69204800.0        0.0           0.0 -0.01\n",
            "7  1990-05-31  1.21  1.21  1.19  ...  25771200.0        0.0           0.0 -0.01\n",
            "8  1990-06-01  1.20  1.22  1.18  ...  39309200.0        0.0           0.0 -0.02\n",
            "9  1990-06-04  1.18  1.19  1.16  ...  44856000.0        0.0           0.0  0.00\n",
            "10 1990-06-05  1.19  1.19  1.13  ...  74858000.0        0.0           0.0 -0.04\n",
            "\n",
            "[10 rows x 9 columns]\n",
            "Dataframe size: 7559\n"
          ],
          "name": "stdout"
        }
      ]
    },
    {
      "cell_type": "markdown",
      "metadata": {
        "id": "5zVvp2Ygv9xk",
        "colab_type": "text"
      },
      "source": [
        "### **Adding a few import statements.**"
      ]
    },
    {
      "cell_type": "code",
      "metadata": {
        "id": "O5TX_iJH-Pb6",
        "colab_type": "code",
        "colab": {}
      },
      "source": [
        "from sklearn import preprocessing\n",
        "import numpy as np\n",
        "import math\n",
        "import seaborn as sns; sns.set()"
      ],
      "execution_count": 0,
      "outputs": []
    },
    {
      "cell_type": "markdown",
      "metadata": {
        "id": "0_JbWy4owDRY",
        "colab_type": "text"
      },
      "source": [
        "### **Feature Selection**\n",
        "\n",
        "**Splitting the data into training and test dataset**\n"
      ]
    },
    {
      "cell_type": "code",
      "metadata": {
        "id": "xqcoM-IWyte9",
        "colab_type": "code",
        "colab": {
          "base_uri": "https://localhost:8080/",
          "height": 34
        },
        "outputId": "4c8f178d-8e27-4baf-cea6-e7340c0a02f7"
      },
      "source": [
        "# We need standardize our dataset\n",
        "\n",
        "X = df[['Open', 'PCD', 'Volume', 'Dividends', 'Stock Splits']]\n",
        "y = df[['Close']]\n",
        "\n",
        "starting_point = int(math.ceil(.8 * len(df)))\n",
        "print(starting_point)\n",
        "\n",
        "X_train = X[:starting_point].values\n",
        "y_train = y[:starting_point].values\n",
        "\n",
        "X_test = X[starting_point:].values\n",
        "y_test = y[starting_point:].values"
      ],
      "execution_count": 374,
      "outputs": [
        {
          "output_type": "stream",
          "text": [
            "6048\n"
          ],
          "name": "stdout"
        }
      ]
    },
    {
      "cell_type": "markdown",
      "metadata": {
        "id": "TjhrTMxcwYkP",
        "colab_type": "text"
      },
      "source": [
        "### **A few more import statements**"
      ]
    },
    {
      "cell_type": "code",
      "metadata": {
        "id": "j2sHWphgATN0",
        "colab_type": "code",
        "colab": {}
      },
      "source": [
        "from sklearn.linear_model import LinearRegression\n",
        "from sklearn import metrics\n",
        "from sklearn.compose import TransformedTargetRegressor \n",
        "from sklearn.preprocessing import MinMaxScaler\n",
        "\n",
        "import matplotlib.pyplot as plt\n",
        "%matplotlib inline"
      ],
      "execution_count": 0,
      "outputs": []
    },
    {
      "cell_type": "markdown",
      "metadata": {
        "id": "vzqx8DDswdPI",
        "colab_type": "text"
      },
      "source": [
        "### **LinearRegression:**\n",
        "\n",
        "Using the linearRegression classifier to predict the intercept and coefficients to be used for predicting the y values. i.e. y = mx + c."
      ]
    },
    {
      "cell_type": "code",
      "metadata": {
        "id": "GWtL6tB2Am79",
        "colab_type": "code",
        "outputId": "986fb870-9e5c-41ed-988d-0fa7682ae4d0",
        "colab": {
          "base_uri": "https://localhost:8080/",
          "height": 514
        }
      },
      "source": [
        "regr = TransformedTargetRegressor(regressor=LinearRegression(), transformer=MinMaxScaler())\n",
        "regr.fit(X_train, y_train)\n",
        "\n",
        "accuracy = regr.score(X_test, y_test)\n",
        "\n",
        "print('Accuracy: {}%\\n'.format(accuracy * 100))\n",
        "y_predicted = regr.predict(X_test)\n",
        "\n",
        "new_df = pd.DataFrame({'Actual closing price': y_test.flatten(), 'Predicted': y_predicted.flatten()})\n",
        "print(new_df.head(25))"
      ],
      "execution_count": 376,
      "outputs": [
        {
          "output_type": "stream",
          "text": [
            "Accuracy: 100.0%\n",
            "\n",
            "    Actual closing price  Predicted\n",
            "0                  78.57      78.57\n",
            "1                  79.46      79.46\n",
            "2                  80.95      80.95\n",
            "3                  80.74      80.74\n",
            "4                  82.21      82.21\n",
            "5                  81.90      81.90\n",
            "6                  81.34      81.34\n",
            "7                  82.49      82.49\n",
            "8                  83.43      83.43\n",
            "9                  83.76      83.76\n",
            "10                 83.53      83.53\n",
            "11                 84.87      84.87\n",
            "12                 85.36      85.36\n",
            "13                 85.01      85.01\n",
            "14                 83.59      83.59\n",
            "15                 82.67      82.67\n",
            "16                 83.51      83.51\n",
            "17                 83.40      83.40\n",
            "18                 83.49      83.49\n",
            "19                 83.20      83.20\n",
            "20                 82.34      82.34\n",
            "21                 82.27      82.27\n",
            "22                 81.77      81.77\n",
            "23                 81.84      81.84\n",
            "24                 82.33      82.33\n"
          ],
          "name": "stdout"
        }
      ]
    },
    {
      "cell_type": "code",
      "metadata": {
        "id": "l3YTp76vGgdz",
        "colab_type": "code",
        "outputId": "0dcc1c16-6e9b-4a05-bb0d-8d1eecf1fa65",
        "colab": {
          "base_uri": "https://localhost:8080/",
          "height": 573
        }
      },
      "source": [
        "#Plotting the diagram\n",
        "\n",
        "plt.figure(figsize=(16, 9))\n",
        "plt.plot(df['Date'], df['Close'], c='red', label='Actual')\n",
        "plt.plot(df['Date'].iloc[6048:], y_predicted.flatten(), c='blue', label='Predicted')\n",
        "plt.xlabel('Dates')\n",
        "plt.ylabel('Closing prices')\n",
        "plt.title('Closing price prediction')\n",
        "plt.legend()\n",
        "plt.show()"
      ],
      "execution_count": 377,
      "outputs": [
        {
          "output_type": "display_data",
          "data": {
            "image/png": "[encoded data removed]",
            "text/plain": [
              "<Figure size 1152x648 with 1 Axes>"
            ]
          },
          "metadata": {
            "tags": [],
            "needs_background": "light"
          }
        }
      ]
    },
    {
      "cell_type": "markdown",
      "metadata": {
        "id": "cI3Orcpc5OwI",
        "colab_type": "text"
      },
      "source": [
        "Observation:\n",
        "\n",
        "Our linear regression model did predict the rise and fall of the closing prices very accurately."
      ]
    }
  ]
}