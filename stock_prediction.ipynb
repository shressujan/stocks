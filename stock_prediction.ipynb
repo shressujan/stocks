{
  "nbformat": 4,
  "nbformat_minor": 0,
  "metadata": {
    "colab": {
      "name": "stock_prediction.ipynb",
      "provenance": [],
      "machine_shape": "hm",
      "authorship_tag": "ABX9TyNXSW/A9ZXsCgci9+aXqgnM",
      "include_colab_link": true
    },
    "kernelspec": {
      "name": "python3",
      "display_name": "Python 3"
    },
    "accelerator": "TPU"
  },
  "cells": [
    {
      "cell_type": "markdown",
      "metadata": {
        "id": "view-in-github",
        "colab_type": "text"
      },
      "source": [
        "<a href=\"https://colab.research.google.com/github/shrestha94sujan/stocks/blob/master/stock_prediction.ipynb\" target=\"_parent\"><img src=\"https://colab.research.google.com/assets/colab-badge.svg\" alt=\"Open In Colab\"/></a>"
      ]
    },
    {
      "cell_type": "code",
      "metadata": {
        "id": "YKb_mAK2PF-k",
        "colab_type": "code",
        "outputId": "a18c0633-4532-488b-ddf4-0db559629cf8",
        "colab": {
          "base_uri": "https://localhost:8080/",
          "height": 34
        }
      },
      "source": [
        "print('welcome to stock prediction Using Simple Linear Regression!')\n"
      ],
      "execution_count": 1,
      "outputs": [
        {
          "output_type": "stream",
          "text": [
            "welcome to stock prediction Using Simple Linear Regression!\n"
          ],
          "name": "stdout"
        }
      ]
    },
    {
      "cell_type": "code",
      "metadata": {
        "id": "Ex6aQVfJv9KE",
        "colab_type": "code",
        "outputId": "0ed7d70b-ff74-4aad-d877-a6cf1ac15903",
        "colab": {
          "base_uri": "https://localhost:8080/",
          "height": 372
        }
      },
      "source": [
        "!pip install yfinance"
      ],
      "execution_count": 2,
      "outputs": [
        {
          "output_type": "stream",
          "text": [
            "Collecting yfinance\n",
            "  Downloading https://files.pythonhosted.org/packages/c2/31/8b374a12b90def92a4e27d0fc595fc43635f395984e36a075244d98bd265/yfinance-0.1.54.tar.gz\n",
            "Requirement already satisfied: pandas>=0.24 in /usr/local/lib/python3.6/dist-packages (from yfinance) (1.0.3)\n",
            "Requirement already satisfied: numpy>=1.15 in /usr/local/lib/python3.6/dist-packages (from yfinance) (1.18.4)\n",
            "Requirement already satisfied: requests>=2.20 in /usr/local/lib/python3.6/dist-packages (from yfinance) (2.23.0)\n",
            "Requirement already satisfied: multitasking>=0.0.7 in /usr/local/lib/python3.6/dist-packages (from yfinance) (0.0.9)\n",
            "Requirement already satisfied: python-dateutil>=2.6.1 in /usr/local/lib/python3.6/dist-packages (from pandas>=0.24->yfinance) (2.8.1)\n",
            "Requirement already satisfied: pytz>=2017.2 in /usr/local/lib/python3.6/dist-packages (from pandas>=0.24->yfinance) (2018.9)\n",
            "Requirement already satisfied: chardet<4,>=3.0.2 in /usr/local/lib/python3.6/dist-packages (from requests>=2.20->yfinance) (3.0.4)\n",
            "Requirement already satisfied: urllib3!=1.25.0,!=1.25.1,<1.26,>=1.21.1 in /usr/local/lib/python3.6/dist-packages (from requests>=2.20->yfinance) (1.24.3)\n",
            "Requirement already satisfied: idna<3,>=2.5 in /usr/local/lib/python3.6/dist-packages (from requests>=2.20->yfinance) (2.9)\n",
            "Requirement already satisfied: certifi>=2017.4.17 in /usr/local/lib/python3.6/dist-packages (from requests>=2.20->yfinance) (2020.4.5.1)\n",
            "Requirement already satisfied: six>=1.5 in /usr/local/lib/python3.6/dist-packages (from python-dateutil>=2.6.1->pandas>=0.24->yfinance) (1.12.0)\n",
            "Building wheels for collected packages: yfinance\n",
            "  Building wheel for yfinance (setup.py) ... \u001b[?25l\u001b[?25hdone\n",
            "  Created wheel for yfinance: filename=yfinance-0.1.54-py2.py3-none-any.whl size=22409 sha256=d23e0bcbc8b8848b96cf362a3ccc7ccda21ba695525342da008de2da09d951aa\n",
            "  Stored in directory: /root/.cache/pip/wheels/f9/e3/5b/ec24dd2984b12d61e0abf26289746c2436a0e7844f26f2515c\n",
            "Successfully built yfinance\n",
            "Installing collected packages: yfinance\n",
            "Successfully installed yfinance-0.1.54\n"
          ],
          "name": "stdout"
        }
      ]
    },
    {
      "cell_type": "markdown",
      "metadata": {
        "id": "7PpPNjIsvsO9",
        "colab_type": "text"
      },
      "source": [
        "### **Using yfinance library to import the history stock data**"
      ]
    },
    {
      "cell_type": "code",
      "metadata": {
        "id": "ZVeQWIK9wBEe",
        "colab_type": "code",
        "outputId": "75ef5734-58ea-43ce-d001-13bb065f1cc6",
        "colab": {
          "base_uri": "https://localhost:8080/",
          "height": 230
        }
      },
      "source": [
        "import yfinance as yf\n",
        "import pandas as pd\n",
        "\n",
        "pd.options.display.max_rows=None\n",
        "\n",
        "aapl = yf.Ticker('AAPL')\n",
        "\n",
        "historical_data = aapl.history(period='30y')\n",
        "historical_data.reset_index(inplace=True)\n",
        "\n",
        "df = historical_data.copy()\n",
        "\n",
        "# df['PCD'] = df['Close'] - df['Open']\n",
        "\n",
        "df.dropna(inplace=True)\n",
        "\n",
        "print(df.head(10))\n",
        "# Size of the dataframe\n",
        "print('Dataframe size: {}'.format(df.shape[0]))"
      ],
      "execution_count": 4,
      "outputs": [
        {
          "output_type": "stream",
          "text": [
            "         Date  Open  High   Low  Close      Volume  Dividends  Stock Splits\n",
            "1  1990-05-22  1.17  1.21  1.16   1.20  75272400.0        0.0           0.0\n",
            "2  1990-05-23  1.20  1.23  1.20   1.22  51878400.0        0.0           0.0\n",
            "3  1990-05-24  1.23  1.23  1.21   1.22  37032800.0        0.0           0.0\n",
            "4  1990-05-25  1.15  1.18  1.13   1.16  80830400.0        0.0           0.0\n",
            "5  1990-05-29  1.16  1.20  1.14   1.19  60802000.0        0.0           0.0\n",
            "6  1990-05-30  1.21  1.21  1.20   1.20  69204800.0        0.0           0.0\n",
            "7  1990-05-31  1.21  1.21  1.19   1.20  25771200.0        0.0           0.0\n",
            "8  1990-06-01  1.20  1.22  1.18   1.18  39309200.0        0.0           0.0\n",
            "9  1990-06-04  1.18  1.19  1.16   1.18  44856000.0        0.0           0.0\n",
            "10 1990-06-05  1.19  1.19  1.13   1.15  74858000.0        0.0           0.0\n",
            "Dataframe size: 7559\n"
          ],
          "name": "stdout"
        }
      ]
    },
    {
      "cell_type": "markdown",
      "metadata": {
        "id": "5zVvp2Ygv9xk",
        "colab_type": "text"
      },
      "source": [
        "### **Adding a few import statements.**"
      ]
    },
    {
      "cell_type": "code",
      "metadata": {
        "id": "O5TX_iJH-Pb6",
        "colab_type": "code",
        "colab": {
          "base_uri": "https://localhost:8080/",
          "height": 52
        },
        "outputId": "21318feb-b17e-4785-8bf7-ddc7d7bc5db6"
      },
      "source": [
        "from sklearn import preprocessing\n",
        "import numpy as np\n",
        "import math\n",
        "import seaborn as sns; sns.set()"
      ],
      "execution_count": 5,
      "outputs": [
        {
          "output_type": "stream",
          "text": [
            "/usr/local/lib/python3.6/dist-packages/statsmodels/tools/_testing.py:19: FutureWarning: pandas.util.testing is deprecated. Use the functions in the public API at pandas.testing instead.\n",
            "  import pandas.util.testing as tm\n"
          ],
          "name": "stderr"
        }
      ]
    },
    {
      "cell_type": "markdown",
      "metadata": {
        "id": "0_JbWy4owDRY",
        "colab_type": "text"
      },
      "source": [
        "### **Feature Selection**\n",
        "\n",
        "**Splitting the data into training and test dataset**\n"
      ]
    },
    {
      "cell_type": "code",
      "metadata": {
        "id": "xqcoM-IWyte9",
        "colab_type": "code",
        "outputId": "d1659119-293c-48d3-f746-98a97d2606ec",
        "colab": {
          "base_uri": "https://localhost:8080/",
          "height": 34
        }
      },
      "source": [
        "# We need standardize our dataset\n",
        "\n",
        "X = df[['Open', 'Volume', 'Dividends', 'Stock Splits']]\n",
        "y = df[['Close']]\n",
        "\n",
        "starting_point = int(math.ceil(.8 * len(df)))\n",
        "print(starting_point)\n",
        "\n",
        "X_train = X[:starting_point].values\n",
        "y_train = y[:starting_point].values\n",
        "\n",
        "X_test = X[starting_point:].values\n",
        "y_test = y[starting_point:].values"
      ],
      "execution_count": 6,
      "outputs": [
        {
          "output_type": "stream",
          "text": [
            "6048\n"
          ],
          "name": "stdout"
        }
      ]
    },
    {
      "cell_type": "markdown",
      "metadata": {
        "id": "TjhrTMxcwYkP",
        "colab_type": "text"
      },
      "source": [
        "### **A few more import statements**"
      ]
    },
    {
      "cell_type": "code",
      "metadata": {
        "id": "j2sHWphgATN0",
        "colab_type": "code",
        "colab": {}
      },
      "source": [
        "from sklearn.linear_model import LinearRegression\n",
        "from sklearn import metrics\n",
        "from sklearn.compose import TransformedTargetRegressor \n",
        "from sklearn.preprocessing import MinMaxScaler\n",
        "\n",
        "import matplotlib.pyplot as plt\n",
        "%matplotlib inline"
      ],
      "execution_count": 0,
      "outputs": []
    },
    {
      "cell_type": "markdown",
      "metadata": {
        "id": "vzqx8DDswdPI",
        "colab_type": "text"
      },
      "source": [
        "### **LinearRegression:**\n",
        "\n",
        "Using the linearRegression classifier to predict the intercept and coefficients to be used for predicting the y values. i.e. y = mx + c."
      ]
    },
    {
      "cell_type": "code",
      "metadata": {
        "id": "GWtL6tB2Am79",
        "colab_type": "code",
        "outputId": "9ed3acc6-e721-4e6b-d369-8b5f20fb5b55",
        "colab": {
          "base_uri": "https://localhost:8080/",
          "height": 514
        }
      },
      "source": [
        "regr = TransformedTargetRegressor(regressor=LinearRegression(), transformer=MinMaxScaler())\n",
        "regr.fit(X_train, y_train)\n",
        "\n",
        "accuracy = regr.score(X_test, y_test)\n",
        "\n",
        "print('Accuracy: {}%\\n'.format(accuracy * 100))\n",
        "y_predicted = regr.predict(X_test)\n",
        "\n",
        "new_df = pd.DataFrame({'Actual closing price': y_test.flatten(), 'Predicted': y_predicted.flatten()})\n",
        "print(new_df.head(25))"
      ],
      "execution_count": 8,
      "outputs": [
        {
          "output_type": "stream",
          "text": [
            "Accuracy: 99.8485569370983%\n",
            "\n",
            "    Actual closing price  Predicted\n",
            "0                  78.57  78.442367\n",
            "1                  79.46  78.521345\n",
            "2                  80.95  79.636942\n",
            "3                  80.74  80.946992\n",
            "4                  82.21  81.184947\n",
            "5                  81.90  82.488234\n",
            "6                  81.34  81.974579\n",
            "7                  82.49  81.267452\n",
            "8                  83.43  82.425282\n",
            "9                  83.76  83.555413\n",
            "10                 83.53  84.033645\n",
            "11                 84.87  84.513970\n",
            "12                 85.36  85.745401\n",
            "13                 85.01  85.197903\n",
            "14                 83.59  85.116852\n",
            "15                 82.67  83.458111\n",
            "16                 83.51  82.830901\n",
            "17                 83.40  83.561074\n",
            "18                 83.49  83.520639\n",
            "19                 83.20  83.540378\n",
            "20                 82.34  83.132670\n",
            "21                 82.27  82.660031\n",
            "22                 81.77  82.140987\n",
            "23                 81.84  81.651616\n",
            "24                 82.33  81.802024\n"
          ],
          "name": "stdout"
        }
      ]
    },
    {
      "cell_type": "code",
      "metadata": {
        "id": "l3YTp76vGgdz",
        "colab_type": "code",
        "outputId": "f2dbef61-0056-472e-bfef-6988d4707826",
        "colab": {
          "base_uri": "https://localhost:8080/",
          "height": 573
        }
      },
      "source": [
        "#Plotting the diagram\n",
        "\n",
        "plt.figure(figsize=(16, 9))\n",
        "plt.plot(df['Date'], df['Close'], c='red', label='Actual')\n",
        "plt.plot(df['Date'].iloc[6048:], y_predicted.flatten(), c='blue', label='Predicted')\n",
        "plt.xlabel('Dates')\n",
        "plt.ylabel('Closing prices')\n",
        "plt.title('Closing price prediction')\n",
        "plt.legend()\n",
        "plt.show()"
      ],
      "execution_count": 9,
      "outputs": [
        {
          "output_type": "display_data",
          "data": {
            "image/png": "[encoded data removed]",
            "text/plain": [
              "<Figure size 1152x648 with 1 Axes>"
            ]
          },
          "metadata": {
            "tags": [],
            "needs_background": "light"
          }
        }
      ]
    },
    {
      "cell_type": "markdown",
      "metadata": {
        "id": "cI3Orcpc5OwI",
        "colab_type": "text"
      },
      "source": [
        "Observation:\n",
        "\n",
        "Our linear regression model did predict the rise and fall of the closing prices very accurately."
      ]
    }
  ]
}